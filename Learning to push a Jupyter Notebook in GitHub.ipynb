{
 "cells": [
  {
   "cell_type": "markdown",
   "metadata": {},
   "source": [
    "# Learning how to push a Jupyter notebook to GitHub\n",
    "Creation of a file with a few lines which include the word subject from the License"
   ]
  },
  {
   "cell_type": "code",
   "execution_count": 1,
   "metadata": {},
   "outputs": [
    {
     "name": "stdout",
     "output_type": "stream",
     "text": [
      "total 956\n",
      "-rwxrwxr-x 1 osboxes osboxes    110 Sep  4 04:42 \u001b[0m\u001b[01;32mgetsections.sh\u001b[0m\n",
      "-rw-rw-r-- 1 osboxes osboxes  14198 Sep  4 04:42 License-CC-BY-4.0\n",
      "drwxrwxr-x 3 osboxes osboxes   4096 Sep  4 05:33 \u001b[01;34mPabloGomezSacristan\u001b[0m\n",
      "-rw-rw-r-- 1 osboxes osboxes   2242 Sep  4 04:42 README.md\n",
      "-rw-rw-r-- 1 osboxes osboxes    151 Sep  4 04:42 samplefile.txt\n",
      "-rw-rw-r-- 1 osboxes osboxes     72 Sep  5 02:27 Untitled1.ipynb\n",
      "-rw-rw-r-- 1 osboxes osboxes    555 Sep  4 06:11 Untitled.ipynb\n",
      "-rw-rw-r-- 1 osboxes osboxes 881144 Sep  4 04:42 \u001b[01;31mvector.gz\u001b[0m\n",
      "-rw-rw-r-- 1 osboxes osboxes  45578 Sep  4 16:05 Welcome!.ipynb\n",
      "-rw-rw---- 1 root    root        38 Sep  4 04:42 you_cant_read_me.txt\n"
     ]
    }
   ],
   "source": [
    "ls -l"
   ]
  },
  {
   "cell_type": "code",
   "execution_count": 9,
   "metadata": {},
   "outputs": [
    {
     "name": "stdout",
     "output_type": "stream",
     "text": [
      "9:    Adapted Material means material subject to Copyright and Similar Rights that is derived from or based upon the Licensed Material and in which the Licensed Material is translated, altered, arranged, transformed, or otherwise modified in a manner requiring permission under the Copyright and Similar Rights held by the Licensor. For purposes of this Public License, where the Licensed Material is a musical work, performance, or sound recording, Adapted Material is always produced where the Licensed Material is synched in timed relation with a moving image.\n",
      "15:    Licensed Rights means the rights granted to You subject to the terms and conditions of this Public License, which are limited to all Copyright and Similar Rights that apply to Your use of the Licensed Material and that the Licensor has authority to license.\n",
      "24:        Subject to the terms and conditions of this Public License, the Licensor hereby grants You a worldwide, royalty-free, non-sublicensable, non-exclusive, irrevocable license to exercise the Licensed Rights in the Licensed Material to:\n",
      "42:Your exercise of the Licensed Rights is expressly made subject to the following conditions.\n"
     ]
    }
   ],
   "source": [
    "grep -in \"SUBJECT\" License-CC-BY-4.0 > pushtogithubfile.txt\n",
    "cat pushtogithubfile.txt"
   ]
  }
 ],
 "metadata": {
  "kernelspec": {
   "display_name": "Bash",
   "language": "bash",
   "name": "bash"
  },
  "language_info": {
   "codemirror_mode": "shell",
   "file_extension": ".sh",
   "mimetype": "text/x-sh",
   "name": "bash"
  }
 },
 "nbformat": 4,
 "nbformat_minor": 2
}
